{
 "cells": [
  {
   "cell_type": "markdown",
   "metadata": {},
   "source": [
    "# Polynomial Regression"
   ]
  },
  {
   "cell_type": "markdown",
   "metadata": {},
   "source": [
    "For a polynomial regression, we fit the following polynomial to our data:"
   ]
  },
  {
   "cell_type": "markdown",
   "metadata": {},
   "source": [
    "$$y_{i} = \\beta_{0} + x_{i}\\beta_{1}+ x_{i}^2 \\beta_{2}+...+ x_{i}^m \\beta_{m},$$\n",
    "$i=1,2,...,n$"
   ]
  },
  {
   "cell_type": "markdown",
   "metadata": {},
   "source": [
    "We use the same method as in multiple linear regression by treating $x_{i}, x_{i}^{2}, ...x_{i}^{m}$ as being distinct independent variables in a multiple regression model."
   ]
  },
  {
   "cell_type": "markdown",
   "metadata": {},
   "source": [
    "$$\n",
    "\\left(\\begin{array}{c} \n",
    "y_{1} \\\\\n",
    "y_{2} \\\\\n",
    ".     \\\\\n",
    ".     \\\\\n",
    ".     \\\\\n",
    "y_{n}\n",
    "\\end{array}\\right)\n",
    "=\n",
    "\\left(\\begin{array}{ccccccc} \n",
    "1 & x_{1} & x_{1}^2 &.&.&.& x_{1}^m\\\\ \n",
    "1 & x_{2} & x_{2}^2 &.&.&.& x_{2}^m\\\\\n",
    ". & . & . &.&.&.& .\\\\\n",
    ". & . & . &.&.&.& .\\\\\n",
    ". & . & . &.&.&.& .\\\\\n",
    "1 & x_{n} & x_{n}^2 &.&.&.& x_{n}^m\n",
    "\\end{array}\\right)\n",
    "\\left(\\begin{array}{c} \n",
    "\\beta_{1} \\\\\n",
    "\\beta_{2} \\\\\n",
    ".     \\\\\n",
    ".     \\\\\n",
    ".     \\\\\n",
    "\\beta_{n}\n",
    "\\end{array}\\right)\n",
    "$$ "
   ]
  },
  {
   "cell_type": "markdown",
   "metadata": {},
   "source": [
    "which can be written as:\n",
    "$$Y = \\beta^{T}X,$$\n",
    "Given a feature $x$, we need to transform it to a $1, x, x^{2},...,x^{m}$, we do the same for other features if they exist. To do this we would employ the following functions: "
   ]
  },
  {
   "cell_type": "code",
   "execution_count": 15,
   "metadata": {},
   "outputs": [],
   "source": [
    "def poly_feats(input_values, degree):\n",
    "    if degree==1:\n",
    "        if 1 not in input_values:\n",
    "            result = input_values.insert(0,1)\n",
    "        result=input_values\n",
    "        return result\n",
    "    elif degree > 1:\n",
    "        new_result=[]\n",
    "        result = poly_feats(input_values, degree-1)\n",
    "        new_result.extend(result)\n",
    "        for item in input_values:\n",
    "            for p_item in result:\n",
    "                res=item*p_item\n",
    "                if (res not in result) and (res not in new_result):\n",
    "                    new_result.append(res)\n",
    "        return new_result\n",
    "    "
   ]
  },
  {
   "cell_type": "code",
   "execution_count": 163,
   "metadata": {},
   "outputs": [],
   "source": [
    "def get_poly_feats(X, degree):\n",
    "    import pandas as pd\n",
    "    df = pd.DataFrame(X)\n",
    "    result = {}\n",
    "    for index, row in df.iterrows():\n",
    "        result[index] = poly_feats(row.tolist(), degree)\n",
    "    return result"
   ]
  },
  {
   "cell_type": "markdown",
   "metadata": {},
   "source": [
    "To keep things simple, let's generate some random data set "
   ]
  },
  {
   "cell_type": "code",
   "execution_count": 166,
   "metadata": {
    "scrolled": true
   },
   "outputs": [
    {
     "data": {
      "image/png": "[encoded data removed]",
      "text/plain": [
       "<Figure size 432x288 with 1 Axes>"
      ]
     },
     "metadata": {
      "needs_background": "light"
     },
     "output_type": "display_data"
    }
   ],
   "source": [
    "import numpy as np\n",
    "import matplotlib.pyplot as plt\n",
    "%matplotlib inline\n",
    "np.random.seed(0)\n",
    "x = np.linspace(2, 5, 100)\n",
    "y = x - 3 * (x ** 2) + 1.5 * (x ** 3) + np.random.normal(-2, 2, 100)\n",
    "plt.scatter(x,y)\n",
    "plt.show()"
   ]
  },
  {
   "cell_type": "markdown",
   "metadata": {},
   "source": [
    "Let's try to fit a straight line to this, we know it won't be correct, but ley's try it out to see."
   ]
  },
  {
   "cell_type": "code",
   "execution_count": 141,
   "metadata": {},
   "outputs": [],
   "source": [
    "class LinReg2():\n",
    "    \"\"\" Multiple Linear regression class for calculating the\n",
    "    coefficients of a data set.\n",
    "    Attributes: intercept_   \n",
    "    Methods: fit, predict, score\n",
    "    \"\"\"\n",
    "    \n",
    "    def __init__(self):\n",
    "        self.B = []\n",
    "        \n",
    "    \n",
    "    def fit(self,X, Y, alpha=0.01, iterations=100000):\n",
    "        \n",
    "        \"\"\"Function to calculate the coefficients of a data set.\n",
    "        Args: X, Y, alpha: learning rate, iterations\n",
    "        Returns: None\n",
    "        \"\"\"\n",
    "        import numpy as np\n",
    "        m = len(Y)\n",
    "        self.B = np.zeros(X.shape[1])\n",
    "        for iteration in range(iterations):\n",
    "            # Hypothesis Values\n",
    "            h = X.dot(self.B)\n",
    "            # Difference b/w Hypothesis and Actual Y\n",
    "            loss = h - Y\n",
    "            # Gradient Calculation\n",
    "            gradient = X.T.dot(loss) / m\n",
    "            # Changing Values of B using Gradient\n",
    "            self.B = self.B - alpha * gradient\n",
    "            \n",
    "\n",
    "    def predict(self, X):\n",
    "        \"\"\"Function to predict target given label.\n",
    "        Args: X\n",
    "        Returns Y \"\"\"\n",
    "        Y = X.dot(self.B)\n",
    "        return Y\n",
    "        \n",
    "    def score(self, X, Y):\n",
    "        \"\"\"Function to calculate the R^2 score.\n",
    "        Args: X, Y\n",
    "        Returns: r2\n",
    "        \"\"\"\n",
    "        import numpy as np\n",
    "        Y_pred = self.predict(X)\n",
    "        ssr = np.sum((Y - Y_pred)**2)\n",
    "        sst = np.sum((Y - Y.mean())**2)\n",
    "        r2 = 1 - ssr/sst\n",
    "        return r2\n",
    "        "
   ]
  },
  {
   "cell_type": "code",
   "execution_count": 167,
   "metadata": {},
   "outputs": [],
   "source": [
    "m = len(x)\n",
    "x0 = np.ones(m)\n",
    "X = np.array([x0, x]).T\n",
    "Y = np.array(y)"
   ]
  },
  {
   "cell_type": "code",
   "execution_count": 168,
   "metadata": {},
   "outputs": [],
   "source": [
    "Lin_model = LinReg2()"
   ]
  },
  {
   "cell_type": "code",
   "execution_count": 169,
   "metadata": {
    "scrolled": true
   },
   "outputs": [],
   "source": [
    "Lin_model.fit(X,Y, alpha=0.0001)"
   ]
  },
  {
   "cell_type": "code",
   "execution_count": 170,
   "metadata": {},
   "outputs": [],
   "source": [
    "Y_pred = Lin_model.predict(X)\n"
   ]
  },
  {
   "cell_type": "code",
   "execution_count": 171,
   "metadata": {
    "scrolled": false
   },
   "outputs": [
    {
     "data": {
      "image/png": "[encoded data removed]",
      "text/plain": [
       "<Figure size 432x288 with 1 Axes>"
      ]
     },
     "metadata": {
      "needs_background": "light"
     },
     "output_type": "display_data"
    }
   ],
   "source": [
    "plt.scatter(x,y, color='g', label='Data')\n",
    "plt.plot(X[:,1], Y_pred, '-r', label='Linear regression')\n",
    "plt.legend\n",
    "plt.show()"
   ]
  },
  {
   "cell_type": "markdown",
   "metadata": {},
   "source": [
    "Now lets fit a cubic function, first we need to transform our feature, $x$ "
   ]
  },
  {
   "cell_type": "code",
   "execution_count": 190,
   "metadata": {
    "scrolled": true
   },
   "outputs": [],
   "source": [
    "X1= get_poly_feats(x, 2)\n",
    "X1 = pd.DataFrame(X1).T\n",
    "X1 = np.array(X1)"
   ]
  },
  {
   "cell_type": "code",
   "execution_count": 191,
   "metadata": {
    "scrolled": true
   },
   "outputs": [
    {
     "name": "stdout",
     "output_type": "stream",
     "text": [
      "Before transformation= [1. 2.]\n",
      "After transformation= [1. 2. 4.]\n"
     ]
    }
   ],
   "source": [
    " print('Before transformation=', X[0])\n",
    "print('After transformation=', X1[0])"
   ]
  },
  {
   "cell_type": "code",
   "execution_count": 192,
   "metadata": {},
   "outputs": [
    {
     "data": {
      "text/plain": [
       "3"
      ]
     },
     "execution_count": 192,
     "metadata": {},
     "output_type": "execute_result"
    }
   ],
   "source": [
    "X1.shape[1]"
   ]
  },
  {
   "cell_type": "markdown",
   "metadata": {},
   "source": [
    "We are now ready to fit this data using our linear model"
   ]
  },
  {
   "cell_type": "code",
   "execution_count": 193,
   "metadata": {},
   "outputs": [],
   "source": [
    "Lin_mode2 = LinReg2()"
   ]
  },
  {
   "cell_type": "code",
   "execution_count": 194,
   "metadata": {
    "scrolled": true
   },
   "outputs": [
    {
     "name": "stderr",
     "output_type": "stream",
     "text": [
      "/Users/apple/anaconda3/lib/python3.7/site-packages/ipykernel_launcher.py:29: RuntimeWarning: invalid value encountered in subtract\n"
     ]
    }
   ],
   "source": [
    "Lin_mode2.fit(X1, Y)"
   ]
  },
  {
   "cell_type": "code",
   "execution_count": 187,
   "metadata": {},
   "outputs": [],
   "source": [
    "Y_pred2 = Lin_mode2.predict(X1)"
   ]
  },
  {
   "cell_type": "code",
   "execution_count": 189,
   "metadata": {
    "scrolled": false
   },
   "outputs": [
    {
     "data": {
      "image/png": "[encoded data removed]",
      "text/plain": [
       "<Figure size 432x288 with 1 Axes>"
      ]
     },
     "metadata": {
      "needs_background": "light"
     },
     "output_type": "display_data"
    }
   ],
   "source": [
    "plt.scatter(x,y, color='g', label='Data')\n",
    "plt.plot(X[:,1], Y_pred, '-r', label='Linear regression')\n",
    "plt.plot(X1[:,1], Y_pred2, '-b', label='Polynomial regression')\n",
    "plt.legend\n",
    "plt.show()"
   ]
  },
  {
   "cell_type": "code",
   "execution_count": 154,
   "metadata": {},
   "outputs": [
    {
     "data": {
      "image/png": "[encoded data removed]",
      "text/plain": [
       "<Figure size 432x288 with 1 Axes>"
      ]
     },
     "metadata": {
      "needs_background": "light"
     },
     "output_type": "display_data"
    }
   ],
   "source": [
    "plt.plot(X1, Y_pred2, '-b', label='Polynomial regression')\n",
    "plt.legend\n",
    "plt.show()"
   ]
  },
  {
   "cell_type": "code",
   "execution_count": 155,
   "metadata": {
    "scrolled": true
   },
   "outputs": [
    {
     "data": {
      "text/plain": [
       "array([nan, nan, nan, nan, nan, nan, nan, nan, nan, nan, nan, nan, nan,\n",
       "       nan, nan, nan, nan, nan, nan, nan, nan, nan, nan, nan, nan, nan,\n",
       "       nan, nan, nan, nan, nan, nan, nan, nan, nan, nan, nan, nan, nan,\n",
       "       nan, nan, nan, nan, nan, nan, nan, nan, nan, nan, nan, nan, nan,\n",
       "       nan, nan, nan, nan, nan, nan, nan, nan, nan, nan, nan, nan, nan,\n",
       "       nan, nan, nan, nan, nan, nan, nan, nan, nan, nan, nan, nan, nan,\n",
       "       nan, nan, nan, nan, nan, nan, nan, nan, nan, nan, nan, nan, nan,\n",
       "       nan, nan, nan, nan, nan, nan, nan, nan, nan])"
      ]
     },
     "execution_count": 155,
     "metadata": {},
     "output_type": "execute_result"
    }
   ],
   "source": [
    "Y_pred2"
   ]
  },
  {
   "cell_type": "code",
   "execution_count": null,
   "metadata": {},
   "outputs": [],
   "source": []
  }
 ],
 "metadata": {
  "kernelspec": {
   "display_name": "Python 3",
   "language": "python",
   "name": "python3"
  },
  "language_info": {
   "codemirror_mode": {
    "name": "ipython",
    "version": 3
   },
   "file_extension": ".py",
   "mimetype": "text/x-python",
   "name": "python",
   "nbconvert_exporter": "python",
   "pygments_lexer": "ipython3",
   "version": "3.7.4"
  }
 },
 "nbformat": 4,
 "nbformat_minor": 2
}
