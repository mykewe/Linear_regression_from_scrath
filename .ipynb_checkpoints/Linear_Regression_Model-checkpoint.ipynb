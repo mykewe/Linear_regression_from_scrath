{
 "cells": [
  {
   "cell_type": "markdown",
   "metadata": {},
   "source": [
    "# Linear Regression model from scrath"
   ]
  },
  {
   "cell_type": "raw",
   "metadata": {},
   "source": [
    "Linear Regression is a method used to define a relationship between a dependent variable $y$ and independent variable $x$. Which is simply written as:"
   ]
  },
  {
   "cell_type": "markdown",
   "metadata": {},
   "source": [
    "# $$y = mx + c$$\n",
    "where $m$ is the slope (or coeficient) of the line and $c$ the intercept with the $y$ axis."
   ]
  },
  {
   "cell_type": "markdown",
   "metadata": {},
   "source": [
    "Linear regression is basically fitting a straight line to a data. What this entails is to find the parameters $m$ and $c$ of the line that best fits the data set $(x,y)$. I would be using the ordinary Least Squares  method to estimate these unknown parameters, with the goal of minimizing the square of the sum of the differences between the points on the resulting line to the actual data points.\n",
    "Per this method,\n",
    "the slope, $m$ is given by the formula:\n",
    "\n",
    "$$m = \\frac{\\Sigma_{i=1}^{n}( x_{i} - \\bar{x})( y_{i} - \\bar{y})}{\\Sigma_{i=1}^{n}(x_{i} - \\bar{x})^{2}}$$\n",
    "The intercept $c$ is:\n",
    "$$ c = \\bar{y} - m \\bar{x},$$ so that the prediction is given as:\n",
    "$$ \\hat{y} = mx + c$$\n"
   ]
  },
  {
   "cell_type": "markdown",
   "metadata": {},
   "source": [
    "To check the performance of the model, we will compute the $R^2$ score using:\n",
    "$$ R^2 = 1 - \\frac{SSR}{SST}$$\n",
    "where $SST$ is the total sum of squares, $\\Sigma_{i=1}^{n}(y_{i} - \\bar{y})^{2}$ and $SSR$ is the total sum of squares of residuals $\\Sigma_{i=1}^{n}(y_{i} - \\hat{y}_{i})^{2}$."
   ]
  },
  {
   "cell_type": "markdown",
   "metadata": {},
   "source": [
    "Just like in sklearn let's proceed to write a class with different funtions that calculates $m$ and $c$ , predicts $\\hat{y}$ and computes $R^{2}$"
   ]
  },
  {
   "cell_type": "code",
   "execution_count": 3,
   "metadata": {},
   "outputs": [],
   "source": [
    "class LinReg():\n",
    "    \"\"\" Linear regression class for calculating the\n",
    "    coefficient and intercept of a data set.\n",
    "    Attributes: coef_ , intercept_  \n",
    "    Methods: fit, predict, score\n",
    "    \"\"\"\n",
    "    \n",
    "    def __init__(self):\n",
    "        self.coef_ = []\n",
    "        self.intercept_ = []\n",
    "\n",
    "    def fit(self,x, y):\n",
    "        \"\"\"Function to calculate the coefficient and intercept of a data set.\n",
    "        Args: x, y\n",
    "        Returns: None\n",
    "        \"\"\"\n",
    "        import numpy as np\n",
    "        mean_x = x.mean()\n",
    "        mean_y = y.mean()\n",
    "        self.coef_ = np.sum((x-mean_x)*(y-mean_y))/np.sum((x-mean_x)**2)\n",
    "        self.intercept_ = mean_y - self.coef_*mean_x\n",
    "        \n",
    "    def predict(self, x):\n",
    "        \"\"\"Function to predict target given label.\n",
    "        Args: x\n",
    "        Returns: y\n",
    "        \"\"\"    \n",
    "        y = self.coef_*x + self.intercept_\n",
    "        return y\n",
    "        \n",
    "    \n",
    "    def score(self, x, y):\n",
    "        \"\"\"Function to calculate the R^2 score.\n",
    "        Args: x, y\n",
    "        Returns: r2\n",
    "        \"\"\"\n",
    "        \n",
    "        import numpy as np\n",
    "        y_pred = self.predict(x)\n",
    "        ssr = np.sum((y - y_pred)**2)\n",
    "        sst = np.sum((y - self.y.mean())**2)\n",
    "        r2 = 1 - ssr/sst\n",
    "        return r2\n",
    "        \n",
    "        "
   ]
  },
  {
   "cell_type": "markdown",
   "metadata": {},
   "source": [
    "We are going to be using a dataset containing head size and brain weight of different people. This dataset is available in here..."
   ]
  },
  {
   "cell_type": "code",
   "execution_count": 2,
   "metadata": {
    "scrolled": true
   },
   "outputs": [
    {
     "data": {
      "text/html": [
       "<div>\n",
       "<style scoped>\n",
       "    .dataframe tbody tr th:only-of-type {\n",
       "        vertical-align: middle;\n",
       "    }\n",
       "\n",
       "    .dataframe tbody tr th {\n",
       "        vertical-align: top;\n",
       "    }\n",
       "\n",
       "    .dataframe thead th {\n",
       "        text-align: right;\n",
       "    }\n",
       "</style>\n",
       "<table border=\"1\" class=\"dataframe\">\n",
       "  <thead>\n",
       "    <tr style=\"text-align: right;\">\n",
       "      <th></th>\n",
       "      <th>Gender</th>\n",
       "      <th>Age Range</th>\n",
       "      <th>Head Size(cm^3)</th>\n",
       "      <th>Brain Weight(grams)</th>\n",
       "    </tr>\n",
       "  </thead>\n",
       "  <tbody>\n",
       "    <tr>\n",
       "      <td>0</td>\n",
       "      <td>1</td>\n",
       "      <td>1</td>\n",
       "      <td>4512</td>\n",
       "      <td>1530</td>\n",
       "    </tr>\n",
       "    <tr>\n",
       "      <td>1</td>\n",
       "      <td>1</td>\n",
       "      <td>1</td>\n",
       "      <td>3738</td>\n",
       "      <td>1297</td>\n",
       "    </tr>\n",
       "    <tr>\n",
       "      <td>2</td>\n",
       "      <td>1</td>\n",
       "      <td>1</td>\n",
       "      <td>4261</td>\n",
       "      <td>1335</td>\n",
       "    </tr>\n",
       "    <tr>\n",
       "      <td>3</td>\n",
       "      <td>1</td>\n",
       "      <td>1</td>\n",
       "      <td>3777</td>\n",
       "      <td>1282</td>\n",
       "    </tr>\n",
       "    <tr>\n",
       "      <td>4</td>\n",
       "      <td>1</td>\n",
       "      <td>1</td>\n",
       "      <td>4177</td>\n",
       "      <td>1590</td>\n",
       "    </tr>\n",
       "  </tbody>\n",
       "</table>\n",
       "</div>"
      ],
      "text/plain": [
       "   Gender  Age Range  Head Size(cm^3)  Brain Weight(grams)\n",
       "0       1          1             4512                 1530\n",
       "1       1          1             3738                 1297\n",
       "2       1          1             4261                 1335\n",
       "3       1          1             3777                 1282\n",
       "4       1          1             4177                 1590"
      ]
     },
     "execution_count": 2,
     "metadata": {},
     "output_type": "execute_result"
    }
   ],
   "source": [
    "import pandas as pd\n",
    "data = pd.read_csv(\"dataset.csv\")\n",
    "data.head()"
   ]
  },
  {
   "cell_type": "code",
   "execution_count": 3,
   "metadata": {
    "scrolled": true
   },
   "outputs": [
    {
     "name": "stdout",
     "output_type": "stream",
     "text": [
      "0    4512\n",
      "1    3738\n",
      "2    4261\n",
      "3    3777\n",
      "4    4177\n",
      "Name: Head Size(cm^3), dtype: int64\n",
      "0    1530\n",
      "1    1297\n",
      "2    1335\n",
      "3    1282\n",
      "4    1590\n",
      "Name: Brain Weight(grams), dtype: int64\n"
     ]
    }
   ],
   "source": [
    "X = data['Head Size(cm^3)']\n",
    "Y = data['Brain Weight(grams)']\n",
    "print(X.head())\n",
    "print(Y.head())"
   ]
  },
  {
   "cell_type": "markdown",
   "metadata": {},
   "source": [
    "Let's instantiate the model and fit it to the data"
   ]
  },
  {
   "cell_type": "code",
   "execution_count": 157,
   "metadata": {
    "scrolled": true
   },
   "outputs": [],
   "source": [
    "model = LinReg()\n",
    "model.fit(X,Y)"
   ]
  },
  {
   "cell_type": "markdown",
   "metadata": {
    "scrolled": true
   },
   "source": [
    "The coefficient and intercept of the fitted line are:"
   ]
  },
  {
   "cell_type": "code",
   "execution_count": 158,
   "metadata": {
    "scrolled": true
   },
   "outputs": [
    {
     "name": "stdout",
     "output_type": "stream",
     "text": [
      "coefficient= 0.2634293394893993\n",
      "intercept= 325.5734210494428\n"
     ]
    }
   ],
   "source": [
    "print(\"coefficient=\",model.coef_)\n",
    "print(\"intercept=\",model.intercept_)"
   ]
  },
  {
   "cell_type": "markdown",
   "metadata": {},
   "source": [
    "Its time to make predictions:\n",
    "    "
   ]
  },
  {
   "cell_type": "code",
   "execution_count": 159,
   "metadata": {},
   "outputs": [],
   "source": [
    "pred = model.predict(X)"
   ]
  },
  {
   "cell_type": "markdown",
   "metadata": {},
   "source": [
    "Let's visualize our fitted line and the data"
   ]
  },
  {
   "cell_type": "code",
   "execution_count": 160,
   "metadata": {
    "scrolled": false
   },
   "outputs": [
    {
     "data": {
      "image/png": "[encoded data removed]",
      "text/plain": [
       "<Figure size 432x288 with 1 Axes>"
      ]
     },
     "metadata": {
      "needs_background": "light"
     },
     "output_type": "display_data"
    }
   ],
   "source": [
    "import matplotlib.pyplot as plt\n",
    "%matplotlib inline\n",
    "plt.scatter(X, Y, label='Data Point')\n",
    "plt.plot(X, pred,  '-r', label='Linear Regression')\n",
    "plt.xlabel(\"Head Size(cm^3)\")\n",
    "plt.ylabel(\"Brain Weight(grams)\")\n",
    "plt.legend()\n",
    "plt.show()"
   ]
  },
  {
   "cell_type": "markdown",
   "metadata": {},
   "source": [
    "Nice one! our model looks good , now let's see how well it performs"
   ]
  },
  {
   "cell_type": "code",
   "execution_count": 161,
   "metadata": {},
   "outputs": [
    {
     "name": "stdout",
     "output_type": "stream",
     "text": [
      "R^2 score= 0.639311719957\n"
     ]
    }
   ],
   "source": [
    "print(\"R^2 score=\", model.score(X, Y))\n"
   ]
  },
  {
   "cell_type": "markdown",
   "metadata": {
    "scrolled": true
   },
   "source": [
    "Now let's compare this with the sklearn Linear Regression model"
   ]
  },
  {
   "cell_type": "code",
   "execution_count": 163,
   "metadata": {
    "scrolled": true
   },
   "outputs": [
    {
     "data": {
      "text/plain": [
       "LinearRegression(copy_X=True, fit_intercept=True, n_jobs=None, normalize=False)"
      ]
     },
     "execution_count": 163,
     "metadata": {},
     "output_type": "execute_result"
    }
   ],
   "source": [
    "from sklearn.linear_model import LinearRegression\n",
    "model2 = LinearRegression()\n",
    "#  Cannot use Rank 1 matrix in scikit learn\n",
    "X2 = X.values.reshape((len(X), 1))\n",
    "Y2 = Y.values\n",
    "model2.fit(X2,Y2) "
   ]
  },
  {
   "cell_type": "markdown",
   "metadata": {},
   "source": [
    "Let's check the coeffient and intercept"
   ]
  },
  {
   "cell_type": "code",
   "execution_count": 164,
   "metadata": {
    "scrolled": true
   },
   "outputs": [
    {
     "name": "stdout",
     "output_type": "stream",
     "text": [
      "coefficient= [0.26342934]\n",
      "intercept= 325.5734210494428\n"
     ]
    }
   ],
   "source": [
    "print(\"coefficient=\",model2.coef_)\n",
    "print(\"intercept=\",model2.intercept_)"
   ]
  },
  {
   "cell_type": "markdown",
   "metadata": {},
   "source": [
    "This is exactly what we obtained in our own model!! lets make predictions and check the $R^{2}$ score"
   ]
  },
  {
   "cell_type": "code",
   "execution_count": 165,
   "metadata": {},
   "outputs": [],
   "source": [
    "pred2 = model2.predict(X2)"
   ]
  },
  {
   "cell_type": "code",
   "execution_count": 166,
   "metadata": {},
   "outputs": [
    {
     "name": "stdout",
     "output_type": "stream",
     "text": [
      "R^2 score= 0.639311719957\n"
     ]
    }
   ],
   "source": [
    "print(\"R^2 score=\", model2.score(X2, Y2))\n"
   ]
  },
  {
   "cell_type": "code",
   "execution_count": 171,
   "metadata": {
    "scrolled": false
   },
   "outputs": [
    {
     "data": {
      "text/plain": [
       "<matplotlib.legend.Legend at 0x11a450a10>"
      ]
     },
     "execution_count": 171,
     "metadata": {},
     "output_type": "execute_result"
    },
    {
     "data": {
      "image/png": "[encoded data removed]",
      "text/plain": [
       "<Figure size 432x288 with 1 Axes>"
      ]
     },
     "metadata": {
      "needs_background": "light"
     },
     "output_type": "display_data"
    }
   ],
   "source": [
    "plt.scatter(X2, Y2, color='r', label='Data Point')\n",
    "plt.plot(X2, pred2,  '-g', label='Linear Regression')\n",
    "plt.xlabel(\"Head Size(cm^3)\")\n",
    "plt.ylabel(\"Brain Weight(grams)\")\n",
    "plt.legend()"
   ]
  },
  {
   "cell_type": "markdown",
   "metadata": {},
   "source": [
    "And that's it, we've been able to buid a linear model from scratch!!!"
   ]
  },
  {
   "cell_type": "code",
   "execution_count": null,
   "metadata": {},
   "outputs": [],
   "source": []
  }
 ],
 "metadata": {
  "kernelspec": {
   "display_name": "Python 3",
   "language": "python",
   "name": "python3"
  },
  "language_info": {
   "codemirror_mode": {
    "name": "ipython",
    "version": 3
   },
   "file_extension": ".py",
   "mimetype": "text/x-python",
   "name": "python",
   "nbconvert_exporter": "python",
   "pygments_lexer": "ipython3",
   "version": "3.7.4"
  }
 },
 "nbformat": 4,
 "nbformat_minor": 2
}
